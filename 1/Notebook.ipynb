{
 "cells": [
  {
   "cell_type": "code",
   "execution_count": 1,
   "metadata": {},
   "outputs": [],
   "source": [
    "import pandas as pd\n",
    "import graphviz\n",
    "from sklearn import tree\n",
    "from sklearn.ensemble import RandomForestClassifier\n",
    "import sklearn \n",
    "import numpy as np\n",
    "import matplotlib.pyplot as plt"
   ]
  },
  {
   "cell_type": "markdown",
   "metadata": {},
   "source": [
    "First, load the data and the corresponding classes as pandas tables. We have the data of 200 patients.\n",
    "\n",
    "The first column of the data corresponds to the age of the patients, the second one to the HbA1C value, the third one gives indication if insulin was taken, and the fourth one gives indication if any other drug was taken.\n",
    "\n",
    "Class 0 means diabetes remission, class 1 means non-remission.\n",
    "\n"
   ]
  },
  {
   "cell_type": "code",
   "execution_count": 2,
   "metadata": {},
   "outputs": [
    {
     "data": {
      "text/plain": [
       "(             0          1  2  3\n",
       " 0    51.650893   9.679493  0  0\n",
       " 1    64.627752   7.970522  0  1\n",
       " 2    69.550752   6.368363  1  0\n",
       " 3    65.270695   8.812844  0  1\n",
       " 4    62.681176  10.322206  1  1\n",
       " ..         ...        ... .. ..\n",
       " 195  45.200346   7.315751  0  1\n",
       " 196  46.261624   6.520131  0  0\n",
       " 197  41.424692   5.772244  0  1\n",
       " 198  43.681741   7.993931  0  1\n",
       " 199  62.970023   5.466263  1  0\n",
       " \n",
       " [200 rows x 4 columns],\n",
       "      0\n",
       " 0    1\n",
       " 1    1\n",
       " 2    1\n",
       " 3    1\n",
       " 4    1\n",
       " ..  ..\n",
       " 195  0\n",
       " 196  0\n",
       " 197  0\n",
       " 198  0\n",
       " 199  0\n",
       " \n",
       " [200 rows x 1 columns])"
      ]
     },
     "execution_count": 2,
     "metadata": {},
     "output_type": "execute_result"
    }
   ],
   "source": [
    "data_diabetes = pd.read_table(\"patients_data.txt\",sep=\"\\t\",header=None)\n",
    "classes_diabetes = pd.read_table(\"patients_classes.txt\",sep=\"\\t\",header=None)\n",
    "data_diabetes,classes_diabetes"
   ]
  },
  {
   "cell_type": "markdown",
   "metadata": {},
   "source": [
    "Now, we fit a decision tree to the data and visualise the resulting tree in a .pdf file. \n",
    "\n",
    "One can also limit the depth of the decision tree, so that the visualisation of the tree is clearer."
   ]
  },
  {
   "cell_type": "code",
   "execution_count": 3,
   "metadata": {},
   "outputs": [
    {
     "data": {
      "text/plain": [
       "'diabetes remission_depth_limit.pdf'"
      ]
     },
     "execution_count": 3,
     "metadata": {},
     "output_type": "execute_result"
    }
   ],
   "source": [
    "clf = tree.DecisionTreeClassifier()\n",
    "clf = clf.fit(data_diabetes, classes_diabetes)\n",
    "feature_names = [\"age\", \"hba1c\", \"insuline taken\", \"other drugs taken\"]\n",
    "classes = [\"DR\",\"NDR\"]\n",
    "dot_data = tree.export_graphviz(clf, \n",
    "                                out_file=None,\n",
    "                                feature_names=feature_names,\n",
    "                                class_names=classes,\n",
    "                                filled=True, rounded=True,\n",
    "                                special_characters=True)\n",
    "graph = graphviz.Source(dot_data)\n",
    "graph.render(\"diabetes remission\") \n",
    "\n",
    "clf = tree.DecisionTreeClassifier(max_depth=2)\n",
    "clf = clf.fit(data_diabetes, classes_diabetes)\n",
    "dot_data = tree.export_graphviz(clf, \n",
    "                                out_file=None,\n",
    "                                feature_names=feature_names,\n",
    "                                class_names=classes,\n",
    "                                filled=True, rounded=True,\n",
    "                                special_characters=True)\n",
    "graph = graphviz.Source(dot_data)\n",
    "graph.render(\"diabetes remission_depth_limit\") "
   ]
  },
  {
   "cell_type": "markdown",
   "metadata": {},
   "source": [
    "In the next cell, we use a random forest as a classifier. Then we visualize the importance of the four features.\n",
    "\n",
    "We can conclude that the age of a patient and the fact if insuline was already taken is most important for the classification."
   ]
  },
  {
   "cell_type": "code",
   "execution_count": 4,
   "metadata": {},
   "outputs": [
    {
     "data": {
      "text/plain": [
       "Text(0.5, 1.0, 'Feature importances')"
      ]
     },
     "execution_count": 4,
     "metadata": {},
     "output_type": "execute_result"
    },
    {
     "data": {
      "image/png": "[encoded data removed]",
      "text/plain": [
       "<Figure size 432x288 with 1 Axes>"
      ]
     },
     "metadata": {
      "needs_background": "light"
     },
     "output_type": "display_data"
    }
   ],
   "source": [
    "clf = RandomForestClassifier(max_depth=2, random_state=0)\n",
    "clf.fit(data_diabetes, np.squeeze(classes_diabetes))\n",
    "forest_importances = pd.Series(clf.feature_importances_, index=feature_names)\n",
    "\n",
    "fig, ax = plt.subplots()\n",
    "forest_importances.plot.bar(ax=ax)\n",
    "ax.set_title(\"Feature importances\")"
   ]
  },
  {
   "cell_type": "markdown",
   "metadata": {},
   "source": [
    "In the following cell, the DiaRem score model is implemented."
   ]
  },
  {
   "cell_type": "code",
   "execution_count": 6,
   "metadata": {},
   "outputs": [],
   "source": [
    "score=np.zeros(200)\n",
    "for i in range(200):\n",
    "\n",
    "    #Score for the age\n",
    "    if data_diabetes.iloc[i][0]<40:\n",
    "        score[i]+=0\n",
    "    elif data_diabetes.iloc[i][0]>=40 and data_diabetes.iloc[0][0]<50:\n",
    "        score[i]+=1\n",
    "    elif data_diabetes.iloc[i][0]>=50 and data_diabetes.iloc[0][0]<60:\n",
    "        score[i]+=2\n",
    "    elif data_diabetes.iloc[i][0]>=60:\n",
    "        score[i]+=3\n",
    "    \n",
    "    #Score for the HbA1C value\n",
    "    if data_diabetes.iloc[i][1]<6.5:\n",
    "        score[i]+=0\n",
    "    elif data_diabetes.iloc[i][1]>=6.5 and data_diabetes.iloc[0][0]<7:\n",
    "        score[i]+=2\n",
    "    elif data_diabetes.iloc[i][1]>=7 and data_diabetes.iloc[0][0]<9:\n",
    "        score[i]+=4\n",
    "    elif data_diabetes.iloc[i][1]>=9:\n",
    "        score[i]+=6\n",
    "\n",
    "    #Score if insuline was taken\n",
    "    if data_diabetes.iloc[i][2]==1:\n",
    "        score[i]+=10\n",
    "    elif data_diabetes.iloc[i][2]==0:\n",
    "        score[i]+=0\n",
    "\n",
    "    #Score if any other drug was taken\n",
    "    if data_diabetes.iloc[i][3]==1:\n",
    "        score[i]+=3\n",
    "    elif data_diabetes.iloc[i][3]==0:\n",
    "        score[i]+=0\n",
    "\n",
    "#Patient having diabetes remission if the score is smaller than 7\n",
    "predictions_DiaRem=np.zeros(200)\n",
    "for i in range(200):\n",
    "    if score[i]<7:\n",
    "        predictions_DiaRem[i]=0\n",
    "    else:\n",
    "        predictions_DiaRem[i]=1"
   ]
  },
  {
   "cell_type": "markdown",
   "metadata": {},
   "source": [
    "For the comparison of the predictive accuracy of these three models, we use the mean of a 5-fold cross validation for the decision tree and random forest. By this technique, we take a test set into account. However, if we just fix one test set randomly, then the accuracy can vary a lot depending on the choice of test set since the dataset is relatively small (200 patients). Therefore, I decided to use cross-validation."
   ]
  },
  {
   "cell_type": "code",
   "execution_count": 11,
   "metadata": {},
   "outputs": [
    {
     "name": "stdout",
     "output_type": "stream",
     "text": [
      "Decision tree accuracy without depth limit:  0.6950000000000001\n",
      "Decision tree accuracy with depth 2:  0.655\n",
      "Random forest accuracy:  0.775\n",
      "DiaRem accuracy:  0.755\n"
     ]
    }
   ],
   "source": [
    "clf = tree.DecisionTreeClassifier()\n",
    "acc_dectree=sklearn.model_selection.cross_val_score(clf,data_diabetes,np.squeeze(classes_diabetes),cv=5).mean()\n",
    "print(\"Decision tree accuracy without depth limit: \",acc_dectree)\n",
    "\n",
    "clf = tree.DecisionTreeClassifier(max_depth=2)\n",
    "acc_dectree=sklearn.model_selection.cross_val_score(clf,data_diabetes,np.squeeze(classes_diabetes),cv=5).mean()\n",
    "print(\"Decision tree accuracy with depth 2: \",acc_dectree)\n",
    "\n",
    "clf = RandomForestClassifier(max_depth=2, random_state=0)\n",
    "acc_rf=sklearn.model_selection.cross_val_score(clf,data_diabetes,np.squeeze(classes_diabetes),cv=5).mean()\n",
    "print(\"Random forest accuracy: \",acc_rf)\n",
    "\n",
    "acc_diarem_all=sklearn.metrics.accuracy_score(classes_diabetes,predictions_DiaRem)\n",
    "print(\"DiaRem accuracy: \",acc_diarem_all)"
   ]
  },
  {
   "cell_type": "markdown",
   "metadata": {},
   "source": [
    "Overall, one can conclude that the random forest clearly outperforms a single decision tree. The random forest and the DiaRem model have comparable accuracy, the random forest is slightly better. However, the DiaRem model does not learn anything in contrast to random forest and is interpretable."
   ]
  }
 ],
 "metadata": {
  "interpreter": {
   "hash": "90292ef448fc83d6889095778a83bd12462bb55058c404550c3a839415345b69"
  },
  "kernelspec": {
   "display_name": "Python 3.7.9 64-bit",
   "language": "python",
   "name": "python3"
  },
  "language_info": {
   "codemirror_mode": {
    "name": "ipython",
    "version": 3
   },
   "file_extension": ".py",
   "mimetype": "text/x-python",
   "name": "python",
   "nbconvert_exporter": "python",
   "pygments_lexer": "ipython3",
   "version": "3.7.9"
  },
  "orig_nbformat": 4
 },
 "nbformat": 4,
 "nbformat_minor": 2
}
