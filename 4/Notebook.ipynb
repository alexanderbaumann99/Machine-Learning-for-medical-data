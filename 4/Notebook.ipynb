{
 "cells": [
  {
   "cell_type": "code",
   "execution_count": 1,
   "metadata": {},
   "outputs": [],
   "source": [
    "import numpy as np\n",
    "import pandas as pd\n",
    "import matplotlib.pyplot as plt\n",
    "from sklearn.linear_model import ElasticNet\n",
    "from sklearn.svm import LinearSVC\n",
    "from sklearn.feature_selection import SelectFromModel\n",
    "from sklearn import linear_model\n",
    "import sklearn.feature_selection as fs\n",
    "import sklearn.linear_model as lin_model\n",
    "from sklearn.metrics import accuracy_score\n",
    "from sklearn.model_selection import train_test_split\n",
    "from statistics import mean"
   ]
  },
  {
   "cell_type": "markdown",
   "metadata": {},
   "source": [
    "In this exercise, we use the leukemia data X_gol with 3562 features and the breast cancer data set X_b with 27 features."
   ]
  },
  {
   "cell_type": "code",
   "execution_count": 2,
   "metadata": {},
   "outputs": [
    {
     "data": {
      "text/plain": [
       "((72, 3562), (72,))"
      ]
     },
     "execution_count": 2,
     "metadata": {},
     "output_type": "execute_result"
    }
   ],
   "source": [
    "X_gol = pd.read_csv(\"data/Golub_X\",sep=\" \",header=None) # Observations\n",
    "y_gol = pd.read_csv(\"data/Golub_y\",sep=\" \",header=None) # Classes\n",
    "y_gol=np.array(y_gol).reshape(-1)\n",
    "X_gol.shape,y_gol.shape"
   ]
  },
  {
   "cell_type": "code",
   "execution_count": 24,
   "metadata": {},
   "outputs": [
    {
     "data": {
      "text/plain": [
       "((569, 27), (569,))"
      ]
     },
     "execution_count": 24,
     "metadata": {},
     "output_type": "execute_result"
    }
   ],
   "source": [
    "X_b = pd.read_csv(\"data/Breast.txt\",sep=\",\",header=None)\n",
    "y_b = X_b.values[:,1] # Classes\n",
    "X_b = X_b.values[:,2:29] # Observations\n",
    "\n",
    "y_b[y_b==\"M\"]=0\n",
    "y_b[y_b==\"B\"]=1\n",
    "y_b=y_b.astype(np.int64)\n",
    "\n",
    "X_b.shape,y_b.shape\n",
    "\n"
   ]
  },
  {
   "cell_type": "markdown",
   "metadata": {},
   "source": [
    "# Feature selection - Heuristic Approach"
   ]
  },
  {
   "cell_type": "markdown",
   "metadata": {},
   "source": [
    "Here, we delete all features whose variance is less than a given threshold. In this ways, we focus on those features which are sigficantly different through the observations. Then, we compare the accuracy of a Logisitic Regression with data consisting of all features and only the selected features."
   ]
  },
  {
   "cell_type": "code",
   "execution_count": 5,
   "metadata": {},
   "outputs": [
    {
     "name": "stdout",
     "output_type": "stream",
     "text": [
      "Number of features left: 7 from 3562\n",
      "Accuracy on selected data set 0.694\n",
      "Accuracy on original data set 1.000\n"
     ]
    }
   ],
   "source": [
    "X=X_gol\n",
    "y=y_gol \n",
    "\n",
    "#X=X_b\n",
    "#y=y_b\n",
    "\n",
    "threshold=0.068\n",
    "#threshold=20\n",
    "\n",
    "selector=fs.VarianceThreshold(threshold)\n",
    "X_thres=selector.fit_transform(X)\n",
    "\n",
    "print(\"Number of selected features: %d from %d\" % (X_thres.shape[1],X.shape[1]) ) \n",
    "\n",
    "model_sel=lin_model.LogisticRegressionCV(penalty=\"l2\",cv=3,max_iter=10000)\n",
    "model_sel.fit(X_thres,y)\n",
    "predictions_sel=model_sel.predict(X_thres)\n",
    "\n",
    "model=lin_model.LogisticRegressionCV(penalty=\"l2\",cv=3,max_iter=10000)\n",
    "model.fit(X,y)\n",
    "predictions=model.predict(X)\n",
    "\n",
    "\n",
    "print(  \"Accuracy on selected data set %.3f\\nAccuracy on original data set %.3f\" % \n",
    "        (accuracy_score(y,predictions_sel),accuracy_score(y,predictions)))"
   ]
  },
  {
   "cell_type": "markdown",
   "metadata": {},
   "source": [
    "# Feature Selection - Statistical Tests"
   ]
  },
  {
   "cell_type": "markdown",
   "metadata": {},
   "source": [
    "Now, we delete all features which are not statistically significant. So all features with a p-value greater than the threshold alpha will be deleted."
   ]
  },
  {
   "cell_type": "code",
   "execution_count": 30,
   "metadata": {},
   "outputs": [
    {
     "name": "stdout",
     "output_type": "stream",
     "text": [
      "Number of features left: 22 from 27\n",
      "Accuracy on selected data set 0.982\n",
      "Accuracy on original data set 0.988\n"
     ]
    }
   ],
   "source": [
    "X=X_gol\n",
    "y=y_gol \n",
    "\n",
    "X=X_b\n",
    "y=y_b\n",
    "\n",
    "alpha=10e-6\n",
    "alpha=10e-8\n",
    "selector=fs.SelectFdr(alpha=alpha)\n",
    "X_thres=selector.fit_transform(X,y)\n",
    "\n",
    "#print(selector.pvalues_)\n",
    "\n",
    "print(\"Number of selected features: %d from %d\" % (X_thres.shape[1],X.shape[1]) ) \n",
    "\n",
    "\n",
    "model_sel=lin_model.LogisticRegressionCV(penalty=\"l2\",cv=5,max_iter=10000)\n",
    "model_sel.fit(X_thres,y)\n",
    "predictions_sel=model_sel.predict(X_thres)\n",
    "\n",
    "model=lin_model.LogisticRegressionCV(penalty=\"l2\",cv=5,max_iter=10000)\n",
    "model.fit(X,y)\n",
    "predictions=model.predict(X)\n",
    "\n",
    "\n",
    "print(  \"Accuracy on selected data set %.3f\\nAccuracy on original data set %.3f\" % \n",
    "        (accuracy_score(y,predictions_sel),accuracy_score(y,predictions)))"
   ]
  },
  {
   "cell_type": "markdown",
   "metadata": {},
   "source": [
    "# Feature Selection within the model"
   ]
  },
  {
   "cell_type": "markdown",
   "metadata": {},
   "source": [
    "We can also choose sparse models which automatically zero out some features. Here, we use the Lasso model, Elastic net model and a support vector machine penalized by the L1 term. <br><br>\n",
    "Since the leukemia data set has relatively few observations (72), the model performance on test set depends quite heavily on the choice of the test set. That is why we choose 10 times a train and test model and take the mean accuracy.\n"
   ]
  },
  {
   "cell_type": "code",
   "execution_count": 35,
   "metadata": {},
   "outputs": [
    {
     "name": "stdout",
     "output_type": "stream",
     "text": [
      "---Lasso---\n",
      "Accuracy: 0.653\t Number of selected features 9\n",
      "---SVM---\n",
      "Accuracy: 0.853\t Number of selected features 8\n",
      "---Elastic Net---\n",
      "Accuracy: 0.660\t Number of selected features 18\n"
     ]
    }
   ],
   "source": [
    "acc_Lasso=[]\n",
    "sel_feat_Lasso=[]\n",
    "acc_SVM=[]\n",
    "sel_feat_SVM=[]\n",
    "acc_ela=[]\n",
    "sel_feat_ela=[]\n",
    "\n",
    "X=X_gol\n",
    "y=y_gol \n",
    "\n",
    "#X=X_b\n",
    "#y=y_b\n",
    "\n",
    "alpha=0.03\n",
    "C=0.1\n",
    "\n",
    "for _ in range(10):\n",
    "        X_tr,X_te,y_tr,y_te=train_test_split(X,y,test_size=0.2,shuffle=True)\n",
    "\n",
    "        Lasso=lin_model.Lasso(alpha=alpha,max_iter=10000)\n",
    "        Lasso.fit(X_tr,y_tr)\n",
    "        predictions_Lasso=Lasso.predict(X_te)\n",
    "        acc_Lasso.append(accuracy_score(y_te,predictions_Lasso.astype(np.int64)))\n",
    "        sel_feat_Lasso.append(np.where(Lasso.coef_!=0)[0].shape[0])\n",
    "        \n",
    "        SVM=LinearSVC(C=C, penalty=\"l1\", dual=False,max_iter=10000)\n",
    "        SVM.fit(X_tr,y_tr)\n",
    "        predictions_SVM=SVM.predict(X_te)\n",
    "        acc_SVM.append(accuracy_score(y_te,predictions_SVM))\n",
    "        sel_feat_SVM.append(np.where(SVM.coef_!=0)[0].shape[0])\n",
    "\n",
    "        Ela_net=lin_model.ElasticNet(alpha=alpha,l1_ratio=0.7,max_iter=10000)\n",
    "        Ela_net.fit(X_tr,y_tr)\n",
    "        predictions_ela=Ela_net.predict(X_te)\n",
    "        acc_ela.append(accuracy_score(y_te,predictions_ela.astype(np.int64)))\n",
    "        sel_feat_ela.append(np.where(Ela_net.coef_!=0)[0].shape[0])\n",
    "\n",
    "print(\"---Lasso---\")\n",
    "print(  \"Accuracy: %.3f\\t Number of selected features %d\" % (mean(acc_Lasso),mean(sel_feat_Lasso)))\n",
    "print(\"---SVM---\")\n",
    "print(  \"Accuracy: %.3f\\t Number of selected features %d\" % (mean(acc_SVM),mean(sel_feat_SVM)))\n",
    "print(\"---Elastic Net---\")\n",
    "print(  \"Accuracy: %.3f\\t Number of selected features %d\" % (mean(acc_ela),mean(sel_feat_ela)))"
   ]
  },
  {
   "cell_type": "markdown",
   "metadata": {},
   "source": [
    "We see that Lasso is obviously sparser than Elastic net since we use a L1-ratio of 0.7.<br>\n",
    "However, we see that their performance is very similar on both data sets. The best model among them is the support vector machine, also on both dat sets."
   ]
  }
 ],
 "metadata": {
  "interpreter": {
   "hash": "90292ef448fc83d6889095778a83bd12462bb55058c404550c3a839415345b69"
  },
  "kernelspec": {
   "display_name": "Python 3.7.9 64-bit",
   "language": "python",
   "name": "python3"
  },
  "language_info": {
   "codemirror_mode": {
    "name": "ipython",
    "version": 3
   },
   "file_extension": ".py",
   "mimetype": "text/x-python",
   "name": "python",
   "nbconvert_exporter": "python",
   "pygments_lexer": "ipython3",
   "version": "3.7.9"
  },
  "orig_nbformat": 4
 },
 "nbformat": 4,
 "nbformat_minor": 2
}
