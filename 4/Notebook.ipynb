{
 "cells": [
  {
   "cell_type": "code",
   "execution_count": 103,
   "metadata": {},
   "outputs": [],
   "source": [
    "import numpy as np\n",
    "import pandas as pd\n",
    "import matplotlib.pyplot as plt\n",
    "from sklearn.linear_model import ElasticNet\n",
    "from sklearn.svm import LinearSVC\n",
    "from sklearn.feature_selection import SelectFromModel\n",
    "from sklearn import linear_model\n",
    "import sklearn.feature_selection as fs\n",
    "import sklearn.linear_model as lin_model\n",
    "from sklearn.metrics import accuracy_score\n"
   ]
  },
  {
   "cell_type": "code",
   "execution_count": 113,
   "metadata": {},
   "outputs": [
    {
     "data": {
      "text/plain": [
       "((72, 3562), (72,))"
      ]
     },
     "execution_count": 113,
     "metadata": {},
     "output_type": "execute_result"
    }
   ],
   "source": [
    "X = pd.read_csv(\"data/Golub_X\",sep=\" \",header=None) # Observations\n",
    "y = pd.read_csv(\"data/Golub_y\",sep=\" \",header=None) # Classes\n",
    "y=np.array(y).reshape(-1)\n",
    "X.shape,y.shape"
   ]
  },
  {
   "cell_type": "code",
   "execution_count": 116,
   "metadata": {},
   "outputs": [
    {
     "name": "stdout",
     "output_type": "stream",
     "text": [
      "Number of features left: 7 from 3562\n"
     ]
    }
   ],
   "source": [
    "threshold=0.068\n",
    "selector=fs.VarianceThreshold(threshold)\n",
    "X_thres=selector.fit_transform(X)\n",
    "\n",
    "print(\"Number of features left: %d from %d\" % (X_thres.shape[1],X.shape[1]) )         "
   ]
  },
  {
   "cell_type": "code",
   "execution_count": 117,
   "metadata": {},
   "outputs": [
    {
     "name": "stdout",
     "output_type": "stream",
     "text": [
      "Accuracy on selected data set 0.694\n",
      "Accuracy on original data set 1.000\n"
     ]
    }
   ],
   "source": [
    "model_sel=lin_model.LogisticRegressionCV(penalty=\"l2\",cv=3)\n",
    "model_sel.fit(X_thres,y)\n",
    "predictions_sel=model_sel.predict(X_thres)\n",
    "\n",
    "model=lin_model.LogisticRegressionCV(penalty=\"l2\",cv=3)\n",
    "model.fit(X,y)\n",
    "predictions=model.predict(X)\n",
    "\n",
    "\n",
    "print(  \"Accuracy on selected data set %.3f\\nAccuracy on original data set %.3f\" % \n",
    "        (accuracy_score(y,predictions_sel),accuracy_score(y,predictions)))"
   ]
  },
  {
   "cell_type": "code",
   "execution_count": 118,
   "metadata": {},
   "outputs": [
    {
     "name": "stdout",
     "output_type": "stream",
     "text": [
      "[0.05953939 0.16033052 0.16765348 ... 0.26605018 0.27724554 0.75016586]\n",
      "Number of features left: 10 from 3562\n"
     ]
    }
   ],
   "source": [
    "selector=fs.SelectFdr(alpha=0.000001)\n",
    "X_thres=selector.fit_transform(X,y)\n",
    "\n",
    "print(selector.pvalues_)\n",
    "\n",
    "print(\"Number of features left: %d from %d\" % (X_thres.shape[1],X.shape[1]) )         "
   ]
  },
  {
   "cell_type": "code",
   "execution_count": 119,
   "metadata": {},
   "outputs": [
    {
     "name": "stdout",
     "output_type": "stream",
     "text": [
      "Accuracy on selected data set 0.972\n",
      "Accuracy on original data set 1.000\n"
     ]
    }
   ],
   "source": [
    "model_sel=lin_model.LogisticRegressionCV(penalty=\"l2\",cv=3)\n",
    "model_sel.fit(X_thres,y)\n",
    "predictions_sel=model_sel.predict(X_thres)\n",
    "\n",
    "model=lin_model.LogisticRegressionCV(penalty=\"l2\",cv=3)\n",
    "model.fit(X,y)\n",
    "predictions=model.predict(X)\n",
    "\n",
    "\n",
    "print(  \"Accuracy on selected data set %.3f\\nAccuracy on original data set %.3f\" % \n",
    "        (accuracy_score(y,predictions_sel),accuracy_score(y,predictions)))"
   ]
  },
  {
   "cell_type": "code",
   "execution_count": null,
   "metadata": {},
   "outputs": [],
   "source": [
    "Lasso=lin_model.Lasso(alpha=0.001)\n",
    "Lasso.fit(X,y)\n",
    "predictions_Lasso=Lasso.predict(X)\n",
    "\n",
    "SVM=LinearSVC(C=1.0, penalty=\"l1\", dual=False)\n",
    "SVM.fit(X,y)\n",
    "predictions_SVM=SVM.predict(X)\n",
    "\n",
    "Ela_net=lin_model.ElasticNet(l1_ratio=0.7)\n",
    "Ela_net.fit(X,y)\n",
    "predictions_ela=Ela_net.predict(X)\n",
    "\n",
    "\n"
   ]
  },
  {
   "cell_type": "code",
   "execution_count": 46,
   "metadata": {},
   "outputs": [
    {
     "data": {
      "text/plain": [
       "array([[17.99, 10.38, 122.8, ..., 0.1622, 0.6656, 0.7119],\n",
       "       [20.57, 17.77, 132.9, ..., 0.1238, 0.1866, 0.2416],\n",
       "       [19.69, 21.25, 130.0, ..., 0.1444, 0.4245, 0.4504],\n",
       "       ...,\n",
       "       [16.6, 28.08, 108.3, ..., 0.1139, 0.3094, 0.3403],\n",
       "       [20.6, 29.33, 140.1, ..., 0.165, 0.8681, 0.9387],\n",
       "       [7.76, 24.54, 47.92, ..., 0.08996, 0.06444, 0.0]], dtype=object)"
      ]
     },
     "execution_count": 46,
     "metadata": {},
     "output_type": "execute_result"
    }
   ],
   "source": [
    "X = pd.read_csv(\"data/Breast.txt\",sep=\",\",header=None)\n",
    "y = X.values[:,1] # Classes\n",
    "X = X.values[:,2:29] # Observations\n",
    "X\n"
   ]
  },
  {
   "cell_type": "code",
   "execution_count": null,
   "metadata": {},
   "outputs": [],
   "source": []
  },
  {
   "cell_type": "code",
   "execution_count": null,
   "metadata": {},
   "outputs": [],
   "source": []
  }
 ],
 "metadata": {
  "interpreter": {
   "hash": "90292ef448fc83d6889095778a83bd12462bb55058c404550c3a839415345b69"
  },
  "kernelspec": {
   "display_name": "Python 3.7.9 64-bit",
   "language": "python",
   "name": "python3"
  },
  "language_info": {
   "codemirror_mode": {
    "name": "ipython",
    "version": 3
   },
   "file_extension": ".py",
   "mimetype": "text/x-python",
   "name": "python",
   "nbconvert_exporter": "python",
   "pygments_lexer": "ipython3",
   "version": "3.7.9"
  },
  "orig_nbformat": 4
 },
 "nbformat": 4,
 "nbformat_minor": 2
}
